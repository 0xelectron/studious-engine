{
 "cells": [
  {
   "cell_type": "code",
   "execution_count": 56,
   "metadata": {},
   "outputs": [],
   "source": [
    "import pandas as pd\n",
    "import numpy as np\n",
    "import csv\n",
    "import datetime as dt\n",
    "from sklearn.model_selection import *\n",
    "from sklearn.linear_model import LinearRegression"
   ]
  },
  {
   "cell_type": "code",
   "execution_count": 57,
   "metadata": {},
   "outputs": [],
   "source": [
    "with open(\"kmpny-data.csv\", \"r\") as f:\n",
    "    df = pd.read_csv(f)\n",
    "df['Date'] = pd.to_datetime(df['Date'])\n",
    "df['Date']= df['Date'].map(dt.datetime.toordinal)\n"
   ]
  },
  {
   "cell_type": "code",
   "execution_count": 58,
   "metadata": {},
   "outputs": [
    {
     "name": "stdout",
     "output_type": "stream",
     "text": [
      "Coefficient: \n",
      " [0.72648223]\n",
      "Intercept: \n",
      " -535320.4556412726\n",
      "sl = -535320.5 + 0.7 Date\n"
     ]
    }
   ],
   "source": [
    "y = np.asarray(df['Count'])\n",
    "X = df[['Date']]\n",
    "\n",
    "X_train, X_test, y_train, y_test = train_test_split(X, y)\n",
    "model = LinearRegression() #create linear regression object\n",
    "model.fit(X_train, y_train) #train model on train data\n",
    "model.score(X_train, y_train) #check score\n",
    "\n",
    "print (\"Coefficient: \\n\", model.coef_)\n",
    "print (\"Intercept: \\n\", model.intercept_) \n",
    "coefs = zip(model.coef_, X.columns)\n",
    "model.__dict__\n",
    "print (\"sl = %.1f + \" % model.intercept_ + \\\n",
    "     \" + \".join(\"%.1f %s\" % coef for coef in coefs)) #linear model\n"
   ]
  },
  {
   "cell_type": "code",
   "execution_count": 69,
   "metadata": {},
   "outputs": [],
   "source": [
    "dt_range = pd.date_range('10/13/2018', periods=50, freq='D')\n",
    "rd = np.random.randint(1, high=100, size=50)\n",
    "dtp = pd.DataFrame({'Date': dt_range, 'Count': rd})\n",
    "dtp['Date'] = dtp['Date'].map(dt.datetime.toordinal)"
   ]
  },
  {
   "cell_type": "code",
   "execution_count": 70,
   "metadata": {},
   "outputs": [],
   "source": [
    "dtp_data = np.asarray(dtp['Date']).reshape(-1, 1)\n",
    "predicted_data = model.predict(dtp_data)"
   ]
  },
  {
   "cell_type": "code",
   "execution_count": 71,
   "metadata": {
    "scrolled": true
   },
   "outputs": [],
   "source": [
    "predicted_data = pd.DataFrame({'Date': dt_range, 'Count': np.around(predicted_data)})\n",
    "predicted_data.to_json(\"kmpny-prediction.json\", orient = \"table\")"
   ]
  },
  {
   "cell_type": "code",
   "execution_count": null,
   "metadata": {},
   "outputs": [],
   "source": []
  }
 ],
 "metadata": {
  "kernelspec": {
   "display_name": "Python 3",
   "language": "python",
   "name": "python3"
  },
  "language_info": {
   "codemirror_mode": {
    "name": "ipython",
    "version": 3
   },
   "file_extension": ".py",
   "mimetype": "text/x-python",
   "name": "python",
   "nbconvert_exporter": "python",
   "pygments_lexer": "ipython3",
   "version": "3.7.0"
  }
 },
 "nbformat": 4,
 "nbformat_minor": 2
}
